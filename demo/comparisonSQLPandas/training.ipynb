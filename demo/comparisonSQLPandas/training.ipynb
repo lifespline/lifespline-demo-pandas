{
 "cells": [
  {
   "cell_type": "code",
   "execution_count": 5,
   "metadata": {},
   "outputs": [],
   "source": [
    "import pandas as pd\n",
    "\n",
    "# create dataframe\n",
    "df = pd.DataFrame({\n",
    "    'id': [1, 2, 3, 4, 5],\n",
    "    'a': [\"a1\", \"a2\", \"a3\", \"a4\", \"a5\"],\n",
    "    'b': [\"b1\", \"b2\", \"b3\", \"b4\", \"b5\"]\n",
    "})\n"
   ]
  },
  {
   "cell_type": "code",
   "execution_count": null,
   "metadata": {},
   "outputs": [],
   "source": [
    "# group by\n",
    "# pivot\n",
    "# mapping\n",
    "# reducing\n",
    "# filtering with condition"
   ]
  }
 ],
 "metadata": {
  "kernelspec": {
   "display_name": "Python 3.8.10 ('.env')",
   "language": "python",
   "name": "python3"
  },
  "language_info": {
   "codemirror_mode": {
    "name": "ipython",
    "version": 3
   },
   "file_extension": ".py",
   "mimetype": "text/x-python",
   "name": "python",
   "nbconvert_exporter": "python",
   "pygments_lexer": "ipython3",
   "version": "3.8.10"
  },
  "orig_nbformat": 4,
  "vscode": {
   "interpreter": {
    "hash": "fb20b21ef4bda5e3cf11eb68dbfc58bf65e106891c6404fa9d5e6fdb4e0ad024"
   }
  }
 },
 "nbformat": 4,
 "nbformat_minor": 2
}
